{
  "nbformat": 4,
  "nbformat_minor": 0,
  "metadata": {
    "colab": {
      "name": "4주차과제.ipynb",
      "provenance": [],
      "collapsed_sections": [],
      "authorship_tag": "ABX9TyO4FoxQaPEW4aGY58ZYS3We",
      "include_colab_link": true
    },
    "kernelspec": {
      "name": "python3",
      "display_name": "Python 3"
    }
  },
  "cells": [
    {
      "cell_type": "markdown",
      "metadata": {
        "id": "view-in-github",
        "colab_type": "text"
      },
      "source": [
        "<a href=\"https://colab.research.google.com/github/Yoon-young-hwan/first-day/blob/master/4%EC%A3%BC%EC%B0%A8%EA%B3%BC%EC%A0%9C.ipynb\" target=\"_parent\"><img src=\"https://colab.research.google.com/assets/colab-badge.svg\" alt=\"Open In Colab\"/></a>"
      ]
    },
    {
      "cell_type": "markdown",
      "metadata": {
        "id": "ixEtDe6_uGgI",
        "colab_type": "text"
      },
      "source": [
        "## 1. 용어 정리\n",
        "\n",
        "다음 제시된 단어의 정의(설명)를 정리하여 작성 하세요.\n",
        "\n",
        "* 2문장 이상 작성 해 주세요. \n",
        "* 주제(단어)와 크게 벗어나지만 않는다면 정답처리 됩니다.\n",
        "* 강의 뿐 아니라 기타 레퍼런스를 참고하여 작성하셔도 됩니다. (기타 레퍼런스를 참고하신 경우, 해당 레퍼런스를 정리하여 하단에 작성해 주세요.)\n"
      ]
    },
    {
      "cell_type": "markdown",
      "metadata": {
        "id": "yGZwlO9C7J4G",
        "colab_type": "text"
      },
      "source": [
        "MCP 뉴런\n",
        ": 여러 개의 입력신호가 가지돌기에 도착하면 신경세포 내에서 이들을 하나의 신호로 통합하고, 통합된 신호 값이 어떤 임계값을 초과하면 하나의 단일 신호가 생성되며, 이 신호가 축삭돌기를 통해 다른 신경세포로 전달하는 단순화 된 원리를 동작하는 뇌세포를 MCP뉴런이라고 한다.\n",
        "\n",
        "퍼셉트론\n",
        ":퍼셉트론(perceptron)은 인공신경망의 한 종류로서, 1957년에 코넬 항공 연구소(Cornell Aeronautical Lab)의 프랑크 로젠블라트 (Frank Rosenblatt)에 의해 고안되었다. 이것은 가장 간단한 형태의 피드포워드(Feedforward) 네트워크 - 선형분류기- 로도 볼 수 있다.\n",
        "\n",
        "역전파\n",
        ":역전파는 다층 퍼셉트론 학습에 사용되는 통계적 기법을 의미한다. 기계 학습에서 사용되는 학습 구조로 다층 퍼셉트론이 있다.\n",
        "\n",
        "강화학습\n",
        ":강화 학습(Reinforcement learning)은 기계 학습의 한 영역이다. 어떤 환경 안에서 정의된 에이전트가 현재의 상태를 인식하여, 선택 가능한 행동들 중 보상을 최대화하는 행동 혹은 행동 순서를 선택하는 방법이다.\n",
        "\n",
        "과적합\n",
        ":과적합(overfitting)은 기계 학습(machine learning)에서 학습 데이타를 과하게 학습(overfitting)하는 것을 뜻한다. 일반적으로 학습 데이타는 실제 데이타의 부분 집합이므로 학습데이타에 대해서는 오차가 감소하지만 실제 데이타에 대해서는 오차가 증가하게 된다.\n",
        "\n",
        "차원의 저주\n",
        ": 차원의 저주란 공간이 1차원 늘어나면, 공간을 탐색하기 위한 데이터가 기하급수적으로 증가하는 현상을 말한다. 데이터 분석적 관점으로 보면, 머신 러닝 모형을 만들 떄, 데이터 변수의 수가 늘어나면 그에 따라 적절한 모형을 만들기 위한 데이터나 계산비용과 같은 자료가 많이 필요하다는 것이다."
      ]
    },
    {
      "cell_type": "markdown",
      "metadata": {
        "id": "d-zfFXLCy6jD",
        "colab_type": "text"
      },
      "source": [
        "## 2. 딥러닝 강의 클론 코딩\n",
        "\n",
        "####__퍼셉트론 구조 구현하기__ \n",
        "딥러닝 강의(__딥러닝 원리[1] 3:15 ~ 5:15 부분__)를 보고 코드를 따라 치며 출력 결과를 만드세요.\n",
        " \n",
        "\n",
        "* 하나의 코드셀에 해당 코드를 한번에 다 적어서 실행해주세요 (__그렇게 하지 않을 경우, 아래 이미지와 같은 출력값이 나오지 않을 수 있습니다__)\n",
        "\n",
        "*__주의!__ 실제로 코딩해서 출력해보면 강의에 나온 출력 결과와 다르게 나옵니다!!\n"
      ]
    },
    {
      "cell_type": "code",
      "metadata": {
        "id": "eAW6aPI15Zyw",
        "colab_type": "code",
        "colab": {
          "base_uri": "https://localhost:8080/",
          "height": 193
        },
        "outputId": "727277f4-ab72-4e46-943d-3e28d8245615"
      },
      "source": [
        "import tensorflow as tf\n",
        "tf.compat.v1.set_random_seed(2020)\n",
        "x=1\n",
        "y=0\n",
        "w= tf.random.normal([1],0,1)\n",
        "\n",
        "import math\n",
        "def sigmoid(x):\n",
        "  return 1/(1+math.exp(-x))\n",
        "\n",
        "  output = sigmoid( x * w )\n",
        "  print(output)\n",
        "\n",
        "for i in range(1000):\n",
        "  output = sigmoid(x*w)\n",
        "  error = y - output\n",
        "  w= w+x*0.1*error\n",
        "\n",
        "  if i %100==99:\n",
        "      print(\"학습횟수:\",i,\"Error:\",error,\"예측 결과:\", output)"
      ],
      "execution_count": 1,
      "outputs": [
        {
          "output_type": "stream",
          "text": [
            "학습횟수: 99 Error: -0.10010598284299604 예측 결과: 0.10010598284299604\n",
            "학습횟수: 199 Error: -0.05178399422833116 예측 결과: 0.05178399422833116\n",
            "학습횟수: 299 Error: -0.034590451977903586 예측 결과: 0.034590451977903586\n",
            "학습횟수: 399 Error: -0.02588962752851373 예측 결과: 0.02588962752851373\n",
            "학습횟수: 499 Error: -0.020658699939863617 예측 결과: 0.020658699939863617\n",
            "학습횟수: 599 Error: -0.017174253993457355 예측 결과: 0.017174253993457355\n",
            "학습횟수: 699 Error: -0.014689506449480992 예측 결과: 0.014689506449480992\n",
            "학습횟수: 799 Error: -0.012829497265431342 예측 결과: 0.012829497265431342\n",
            "학습횟수: 899 Error: -0.011385568271837804 예측 결과: 0.011385568271837804\n",
            "학습횟수: 999 Error: -0.010232493309882492 예측 결과: 0.010232493309882492\n"
          ],
          "name": "stdout"
        }
      ]
    },
    {
      "cell_type": "markdown",
      "metadata": {
        "id": "kr0HVRk8fOom",
        "colab_type": "text"
      },
      "source": [
        "## 3. 딥러닝 순전파 & 역전파 계산\n",
        "\n",
        "딥러닝 강의(__딥러닝 원리[2] 0:55 ~ 4:32 부분__)에 나오는 순전파 & 역전파 계산에 대한 문제 입니다.\n",
        "\n",
        "해당 영상과 다음 이미지를 참고하여 다음 2가지 물음에 답하세요.\n",
        "\n",
        "\n",
        "(1) 학습률이 0.2 일 경우 출력층의 노드값\n",
        "\n",
        "(2) 학습률이 0.1과 0.2 중 기대출력값이 지도데이터 \"3\"과 더 가까운 학습률은?"
      ]
    },
    {
      "cell_type": "markdown",
      "metadata": {
        "id": "CpwPFWhOUzww",
        "colab_type": "text"
      },
      "source": [
        "![대체 텍스트](https://www.notion.so/image/https%3A%2F%2Fs3-us-west-2.amazonaws.com%2Fsecure.notion-static.com%2Ff54dfd45-92ec-44ae-9616-6949d2484a45%2F_2020-06-10__5.22.03.png?table=block&id=ee05da89-3ceb-4ad9-a2d3-c9f68d24d1d9&width=3580&cache=v2)"
      ]
    },
    {
      "cell_type": "markdown",
      "metadata": {
        "id": "B2OVY7w5U3CI",
        "colab_type": "text"
      },
      "source": [
        "## (1) 학습률이 0.2 일 경우 출력층의 노드값 : \n",
        "## (2) 학습률이 0.1과 0.2 중 기대출력값이 지도데이터 \"3\"과 더 가까운 학습률은? : "
      ]
    },
    {
      "cell_type": "markdown",
      "metadata": {
        "id": "2E-Z1pHI6qPI",
        "colab_type": "text"
      },
      "source": [
        "(1)답:1.6\n",
        "\n",
        "\n",
        "(2)답: 0.1이 2.65로 기대출력값 3과 제일 가까움으로 0.1이 더 가까운 학습률이다."
      ]
    }
  ]
}