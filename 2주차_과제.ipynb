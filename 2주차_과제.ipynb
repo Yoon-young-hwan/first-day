{
  "nbformat": 4,
  "nbformat_minor": 0,
  "metadata": {
    "colab": {
      "name": "2주차 과제.ipynb",
      "provenance": [],
      "collapsed_sections": [],
      "authorship_tag": "ABX9TyNJp0YKLZA7MYADrG2WCPtx",
      "include_colab_link": true
    },
    "kernelspec": {
      "name": "python3",
      "display_name": "Python 3"
    }
  },
  "cells": [
    {
      "cell_type": "markdown",
      "metadata": {
        "id": "view-in-github",
        "colab_type": "text"
      },
      "source": [
        "<a href=\"https://colab.research.google.com/github/Yoon-young-hwan/first-day/blob/master/2%EC%A3%BC%EC%B0%A8_%EA%B3%BC%EC%A0%9C.ipynb\" target=\"_parent\"><img src=\"https://colab.research.google.com/assets/colab-badge.svg\" alt=\"Open In Colab\"/></a>"
      ]
    },
    {
      "cell_type": "markdown",
      "metadata": {
        "id": "CoUsj4o6Lwy2",
        "colab_type": "text"
      },
      "source": [
        "다음 변수 a, 변수 b, 변수 c의 자료형을 출력하세요."
      ]
    },
    {
      "cell_type": "code",
      "metadata": {
        "id": "mDsMyhBgLtdq",
        "colab_type": "code",
        "colab": {
          "base_uri": "https://localhost:8080/",
          "height": 70
        },
        "outputId": "041badf7-f7d9-4f13-a2a5-dd88c5b9ba21"
      },
      "source": [
        "a = 'str'\n",
        "b = 123\n",
        "c = True\n",
        "\n",
        "\n",
        "print(a) \n",
        "print(b)\n",
        "print(c)"
      ],
      "execution_count": null,
      "outputs": [
        {
          "output_type": "stream",
          "text": [
            "str\n",
            "123\n",
            "True\n"
          ],
          "name": "stdout"
        }
      ]
    },
    {
      "cell_type": "markdown",
      "metadata": {
        "id": "7YdONrRGL8Sx",
        "colab_type": "text"
      },
      "source": [
        "다음 변수 num_list에 있는 요소를 모두 더한 값을 for문을 활용하여 변수 answer에 저장하고 그 값을 출력하세요."
      ]
    },
    {
      "cell_type": "code",
      "metadata": {
        "id": "CbIpVIATL_Qa",
        "colab_type": "code",
        "colab": {
          "base_uri": "https://localhost:8080/",
          "height": 34
        },
        "outputId": "b3d7260e-5836-4a2e-f760-8745c523426e"
      },
      "source": [
        "num_list = [1,2,3,4,5,6,7,8,9]\n",
        "answer = 0\n",
        "\n",
        "for s in range(0,9):\n",
        "  answer = answer + num_list[s]\n",
        "\n",
        "\n",
        "print(answer)\n"
      ],
      "execution_count": null,
      "outputs": [
        {
          "output_type": "stream",
          "text": [
            "45\n"
          ],
          "name": "stdout"
        }
      ]
    },
    {
      "cell_type": "markdown",
      "metadata": {
        "id": "m5rrx_F5MHtq",
        "colab_type": "text"
      },
      "source": [
        "다음 변수 date를 슬라이스해서 year(년), month(월), day(일)를 각각 출력하세요. (출력 : 2020 05 11)"
      ]
    },
    {
      "cell_type": "code",
      "metadata": {
        "id": "xI7f_0L-MFDt",
        "colab_type": "code",
        "colab": {
          "base_uri": "https://localhost:8080/",
          "height": 34
        },
        "outputId": "cfabe8e3-ba98-42fa-af7a-987bbc4ac668"
      },
      "source": [
        "date = '20200511'\n",
        "\n",
        "year = date[0:4]\n",
        "month = date[4:6]\n",
        "day = date[6:9]\n",
        "\n",
        "print(year, month, day)"
      ],
      "execution_count": null,
      "outputs": [
        {
          "output_type": "stream",
          "text": [
            "2020 05 11\n"
          ],
          "name": "stdout"
        }
      ]
    },
    {
      "cell_type": "markdown",
      "metadata": {
        "id": "0WN_Tqq3MJtN",
        "colab_type": "text"
      },
      "source": [
        "다음 변수 summary에 1 부터 100까지 모두 더한 값을 저장하여 출력하세요."
      ]
    },
    {
      "cell_type": "code",
      "metadata": {
        "id": "S29bV3FXMNge",
        "colab_type": "code",
        "colab": {
          "base_uri": "https://localhost:8080/",
          "height": 35
        },
        "outputId": "63adbdab-d0b8-4adb-918d-9d188d1e24e0"
      },
      "source": [
        "a = 1\n",
        "summary = 0\n",
        "\n",
        "while a < 101:\n",
        "    summary = summary + a\n",
        "    a = a+1\n",
        "\n",
        "print(summary)"
      ],
      "execution_count": null,
      "outputs": [
        {
          "output_type": "stream",
          "text": [
            "5050\n"
          ],
          "name": "stdout"
        }
      ]
    },
    {
      "cell_type": "markdown",
      "metadata": {
        "id": "Vsi-NH-6MRlU",
        "colab_type": "text"
      },
      "source": [
        "다음 변수 hangul의 문자열을 거꾸로 출력하세요. (출력:‘사바마라다나가’)"
      ]
    },
    {
      "cell_type": "code",
      "metadata": {
        "id": "zpSHjIzUMTHK",
        "colab_type": "code",
        "colab": {
          "base_uri": "https://localhost:8080/",
          "height": 34
        },
        "outputId": "ef382a70-bf37-48ce-d8f8-adaa9268eb59"
      },
      "source": [
        "hangul = '가나다라마바사'\n",
        "\n",
        "hangul[::-1]"
      ],
      "execution_count": null,
      "outputs": [
        {
          "output_type": "execute_result",
          "data": {
            "text/plain": [
              "'사바마라다나가'"
            ]
          },
          "metadata": {
            "tags": []
          },
          "execution_count": 5
        }
      ]
    },
    {
      "cell_type": "markdown",
      "metadata": {
        "id": "01ADXjwDMVJu",
        "colab_type": "text"
      },
      "source": [
        "다음 변수 num에는 공백으로 구분된 4개의 점수가 들어 있습니다. 평균을 구해서 출력하세요.\n",
        "\n"
      ]
    },
    {
      "cell_type": "code",
      "metadata": {
        "id": "fdb6fdNme7LX",
        "colab_type": "code",
        "colab": {
          "base_uri": "https://localhost:8080/",
          "height": 53
        },
        "outputId": "6b653cac-1b5c-413e-9c78-0db863988928"
      },
      "source": [
        "num = \"70 50 90 70\"\n",
        "answer=0\n",
        "\n",
        "num_list = (int(num[0:3]),int(num[3:5]),int(num[5:8]),int(num[8:11]))\n",
        "\n",
        "for a in range(0,len(num_list)):\n",
        "  answer = answer + num_list[a]\n",
        "\n",
        "print(answer)\n",
        "\n",
        "print(answer/len(num_list))\n",
        "\n"
      ],
      "execution_count": null,
      "outputs": [
        {
          "output_type": "stream",
          "text": [
            "280\n",
            "70.0\n"
          ],
          "name": "stdout"
        }
      ]
    },
    {
      "cell_type": "markdown",
      "metadata": {
        "id": "1wlLI5w7NCJJ",
        "colab_type": "text"
      },
      "source": [
        "다음 변수 n에 입력한 값이 짝수 일 경우 ‘짝수’를, 짝수가 아닐 경우 ‘짝수가 아닙니다’를 판별하여 출력하세요. (출력: 짝수 or 짝수가 아닙니다)"
      ]
    },
    {
      "cell_type": "code",
      "metadata": {
        "id": "_fFa8IZcNB4y",
        "colab_type": "code",
        "colab": {
          "base_uri": "https://localhost:8080/",
          "height": 52
        },
        "outputId": "fa6d3d09-0165-40ea-85da-bd8be742dc73"
      },
      "source": [
        "n = int(input('숫자를 입력해주세요'))\n",
        "\n",
        "if n % 2 == 0:\n",
        "  answer = '짝수'\n",
        "\n",
        "else :\n",
        "  answer = '짝수가 아닙니다'\n",
        "\n",
        "print(answer)\n"
      ],
      "execution_count": null,
      "outputs": [
        {
          "output_type": "stream",
          "text": [
            "숫자를 입력해주세요5\n",
            "짝수가 아닙니다\n"
          ],
          "name": "stdout"
        }
      ]
    },
    {
      "cell_type": "markdown",
      "metadata": {
        "id": "tL51ZRfHNb_x",
        "colab_type": "text"
      },
      "source": [
        "직사각형의 대각선의 길이를 구하는 공식은 밑변의 제곱 + 높이의 제곱 = 대각선의 제곱이다.\n",
        "\n",
        "다음 변수 list_08에는 하나의 직사각형의 밑변과 높이가 저장되어 있습니다.\n",
        "\n",
        "각각 밑변이 3이고 높이가 4일 때, 직사각형의 대각선의 제곱의 길이를 출력하세요."
      ]
    },
    {
      "cell_type": "code",
      "metadata": {
        "id": "q1k3snbTNdLy",
        "colab_type": "code",
        "colab": {
          "base_uri": "https://localhost:8080/",
          "height": 34
        },
        "outputId": "7b2612b5-e526-46fc-aa71-def79f852288"
      },
      "source": [
        "# 주어진 변수(list_08) 직접 수정불가\n",
        "list_08 = [3, 4]\n",
        "down = int(list_08[0])\n",
        "high = int(list_08[1])\n",
        "\n",
        "\n",
        "length = down**2 + high**2\n",
        "\n",
        "print(length)\n",
        "\n",
        "# 출력"
      ],
      "execution_count": null,
      "outputs": [
        {
          "output_type": "stream",
          "text": [
            "25\n"
          ],
          "name": "stdout"
        }
      ]
    },
    {
      "cell_type": "markdown",
      "metadata": {
        "id": "AQOr9KK2_U2W",
        "colab_type": "text"
      },
      "source": [
        "입력받은 숫자가 소수인지 아닌지 출력하는 프로그램을 작성 해 주세요. (출력 : 소수 or 소수가 아닙니다)"
      ]
    },
    {
      "cell_type": "code",
      "metadata": {
        "id": "zwRPLH3cjqD5",
        "colab_type": "code",
        "colab": {
          "base_uri": "https://localhost:8080/",
          "height": 53
        },
        "outputId": "0139a1d7-4833-4fb1-d87f-44681e1a78b5"
      },
      "source": [
        "# 주어진 변수(num_10) 직접 수정불가\n",
        "# 함수(prime_number) 직접 수정가능\n",
        "\n",
        "c=0\n",
        "num_10=int(input(\"숫자\"))\n",
        "def prime_number(n):\n",
        "    c=0\n",
        "    for i in range(1,num_10+1):\n",
        "     if(num_10%i==0):\n",
        "        c+=1\n",
        "    if(c==2):\n",
        "        return print(\"소수\")\n",
        "    else:\n",
        "        return print(\"소수가 아닙니다\")\n",
        "prime_number(num_10)\n"
      ],
      "execution_count": 1,
      "outputs": [
        {
          "output_type": "stream",
          "text": [
            "숫자3\n",
            "소수\n"
          ],
          "name": "stdout"
        }
      ]
    },
    {
      "cell_type": "markdown",
      "metadata": {
        "id": "4xpwecGuFzcF",
        "colab_type": "text"
      },
      "source": [
        "# $$인공지능 수학 문제$$\n",
        "\n",
        "다음 공식은 Hypothesis를 구하는 공식입니다. 다음과 같이 값이 주어졌을때 h(x)의 값을 구하시오.\n",
        "\n",
        "W = 3\n",
        "\n",
        "x = 10\n",
        "\n",
        "b = 1"
      ]
    },
    {
      "cell_type": "markdown",
      "metadata": {
        "id": "upv_hWgL8yks",
        "colab_type": "text"
      },
      "source": [
        "# $$h(x) = Wx + b$$"
      ]
    },
    {
      "cell_type": "markdown",
      "metadata": {
        "id": "pIf87UUQXKs_",
        "colab_type": "text"
      },
      "source": [
        "답 : 31"
      ]
    },
    {
      "cell_type": "markdown",
      "metadata": {
        "id": "6sIvtew0eHSy",
        "colab_type": "text"
      },
      "source": [
        "\n",
        "다음 공식은 Cost를 구하는 공식입니다. 다음과 같이 값이 주어졌을때 cost의 값을 구하세요.\n",
        "\n",
        "* W = 2\n",
        "* x = [2, 4, 8]\n",
        "* y = [5, 12, 21]\n",
        "\n",
        "(tip: x1=2, y1=5 / x2=4, y2=12 / x3=8, y3=21)"
      ]
    },
    {
      "cell_type": "markdown",
      "metadata": {
        "id": "tjWpl4O1oXy1",
        "colab_type": "text"
      },
      "source": [
        "# $$cost(W) =  \\frac{1}{n}\\sum_{i=1}^n (Wx^{(i)}-y^{(i)})^2$$"
      ]
    },
    {
      "cell_type": "markdown",
      "metadata": {
        "id": "7ky-PAr-oaPQ",
        "colab_type": "text"
      },
      "source": [
        "답:14"
      ]
    },
    {
      "cell_type": "markdown",
      "metadata": {
        "id": "sQMi2ASxeJtt",
        "colab_type": "text"
      },
      "source": [
        "## 3번 문제 (Logistic regression sigmoid function)\n",
        "\n",
        "다음 공식은 로지스틱 시그모이드 함수입니다. x가 __양의 무한대로__ 갈때 f(x)가 수렴하는 값을 구하세요.\n",
        "\n",
        "![대체 텍스트](https://prwatech.in/blog/wp-content/uploads/2020/02/logi3.png)"
      ]
    },
    {
      "cell_type": "markdown",
      "metadata": {
        "id": "fPeAGp1ffrKx",
        "colab_type": "text"
      },
      "source": [
        "답: 1"
      ]
    }
  ]
}